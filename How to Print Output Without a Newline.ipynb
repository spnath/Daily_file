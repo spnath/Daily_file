{
 "cells": [
  {
   "cell_type": "markdown",
   "id": "0ae90037",
   "metadata": {},
   "source": [
    "# How to Print Output Without a Newline"
   ]
  },
  {
   "cell_type": "code",
   "execution_count": 1,
   "id": "3b89b068",
   "metadata": {},
   "outputs": [
    {
     "name": "stdout",
     "output_type": "stream",
     "text": [
      "This Is my first page to show the  Python programming for your Class and Organization\n"
     ]
    }
   ],
   "source": [
    "print(\"This Is my first page to show the \", end=\" \")\n",
    "print(\"Python programming for your Class and Organization\")"
   ]
  },
  {
   "cell_type": "code",
   "execution_count": null,
   "id": "717691d1",
   "metadata": {},
   "outputs": [],
   "source": []
  }
 ],
 "metadata": {
  "kernelspec": {
   "display_name": "Python 3 (ipykernel)",
   "language": "python",
   "name": "python3"
  },
  "language_info": {
   "codemirror_mode": {
    "name": "ipython",
    "version": 3
   },
   "file_extension": ".py",
   "mimetype": "text/x-python",
   "name": "python",
   "nbconvert_exporter": "python",
   "pygments_lexer": "ipython3",
   "version": "3.10.9"
  }
 },
 "nbformat": 4,
 "nbformat_minor": 5
}
