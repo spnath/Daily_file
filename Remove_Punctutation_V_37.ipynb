{
 "cells": [
  {
   "cell_type": "markdown",
   "id": "1b754735",
   "metadata": {},
   "source": [
    "# Remove Punctuations from strings"
   ]
  },
  {
   "cell_type": "code",
   "execution_count": null,
   "id": "9519a2b8",
   "metadata": {},
   "outputs": [
    {
     "name": "stdout",
     "output_type": "stream",
     "text": [
      "Enter Any Number of Here: hi>> thid*** great time@@@@\n",
      "hi thid great time\n"
     ]
    }
   ],
   "source": [
    "while True:\n",
    "    punc='''!@#$%^&*()_+<>??|\\|/`~'''\n",
    "\n",
    "    string=input('Enter Any Number of Here: ')\n",
    "\n",
    "    empty_str=\"\"\n",
    "\n",
    "    for i in string:\n",
    "        if i not in punc:\n",
    "            empty_str+= i\n",
    "    #         emtpy_str=empty_str+i\n",
    "\n",
    "    print(empty_str)"
   ]
  },
  {
   "cell_type": "code",
   "execution_count": null,
   "id": "0264e3dd",
   "metadata": {},
   "outputs": [],
   "source": []
  }
 ],
 "metadata": {
  "kernelspec": {
   "display_name": "Python 3 (ipykernel)",
   "language": "python",
   "name": "python3"
  },
  "language_info": {
   "codemirror_mode": {
    "name": "ipython",
    "version": 3
   },
   "file_extension": ".py",
   "mimetype": "text/x-python",
   "name": "python",
   "nbconvert_exporter": "python",
   "pygments_lexer": "ipython3",
   "version": "3.10.9"
  }
 },
 "nbformat": 4,
 "nbformat_minor": 5
}
