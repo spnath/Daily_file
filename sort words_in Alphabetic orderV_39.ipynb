{
 "cells": [
  {
   "cell_type": "code",
   "execution_count": null,
   "id": "ebb8a25c",
   "metadata": {},
   "outputs": [],
   "source": [
    "#  while True: \n",
    "a=\"She is not perfect for me in my future life, so GOOD BYE>>..!!\"\n",
    "\n",
    "n=a.split()\n",
    "print(n)"
   ]
  },
  {
   "cell_type": "code",
   "execution_count": null,
   "id": "940c1c52",
   "metadata": {},
   "outputs": [],
   "source": [
    "a=\"She is not perfect for me in my future life, so GOOD BYE>>..!!\"\n",
    "\n",
    "n=a.split()\n",
    "print(n)\n",
    "for i in range (len(n)):\n",
    "    n[i]=n[i].lower()\n",
    "\n",
    "w.sort()\n",
    "print(w)"
   ]
  },
  {
   "cell_type": "code",
   "execution_count": null,
   "id": "cc0767fc",
   "metadata": {},
   "outputs": [],
   "source": []
  }
 ],
 "metadata": {
  "kernelspec": {
   "display_name": "Python 3 (ipykernel)",
   "language": "python",
   "name": "python3"
  },
  "language_info": {
   "codemirror_mode": {
    "name": "ipython",
    "version": 3
   },
   "file_extension": ".py",
   "mimetype": "text/x-python",
   "name": "python",
   "nbconvert_exporter": "python",
   "pygments_lexer": "ipython3",
   "version": "3.10.9"
  }
 },
 "nbformat": 4,
 "nbformat_minor": 5
}
