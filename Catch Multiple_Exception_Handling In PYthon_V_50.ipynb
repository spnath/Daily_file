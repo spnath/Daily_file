{
 "cells": [
  {
   "cell_type": "code",
   "execution_count": 1,
   "id": "031791d0",
   "metadata": {},
   "outputs": [
    {
     "name": "stdout",
     "output_type": "stream",
     "text": [
      "enter something here: Herre\n",
      "enter the number here: 125\n",
      "can only concatenate str (not \"int\") to str\n",
      "Thank You\n"
     ]
    }
   ],
   "source": [
    "string=input(\"enter something here: \")\n",
    "\n",
    "try:\n",
    "    num=int(input(\"enter the number here: \"))\n",
    "    print(string+num)\n",
    "    \n",
    "except (ValueError,TypeError) as a:\n",
    "    print(a)\n",
    "    \n",
    "print(\"Thank You\")"
   ]
  },
  {
   "cell_type": "code",
   "execution_count": null,
   "id": "44e81d78",
   "metadata": {},
   "outputs": [],
   "source": []
  }
 ],
 "metadata": {
  "kernelspec": {
   "display_name": "Python 3 (ipykernel)",
   "language": "python",
   "name": "python3"
  },
  "language_info": {
   "codemirror_mode": {
    "name": "ipython",
    "version": 3
   },
   "file_extension": ".py",
   "mimetype": "text/x-python",
   "name": "python",
   "nbconvert_exporter": "python",
   "pygments_lexer": "ipython3",
   "version": "3.10.9"
  }
 },
 "nbformat": 4,
 "nbformat_minor": 5
}
