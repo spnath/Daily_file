{
 "cells": [
  {
   "cell_type": "markdown",
   "id": "a5492a5d",
   "metadata": {},
   "source": [
    "# Count The Each Number Of Each Vowel_Python"
   ]
  },
  {
   "cell_type": "code",
   "execution_count": 1,
   "id": "c100176d",
   "metadata": {},
   "outputs": [
    {
     "name": "stdout",
     "output_type": "stream",
     "text": [
      "this is a very big number to show the python programme\n",
      "{'a': 2, 'e': 4, 'i': 3, 'o': 4, 'u': 1}\n"
     ]
    }
   ],
   "source": [
    "a=\"This Is A Very Big Number to show the Python Programme\"\n",
    "vowels=\"aeiou\"\n",
    "a=a.casefold()\n",
    "print(a)\n",
    "count={}.fromkeys(vowels,0)\n",
    "\n",
    "for char in a:\n",
    "    if char in count:\n",
    "        count[char]+=1\n",
    "\n",
    "print(count)"
   ]
  },
  {
   "cell_type": "markdown",
   "id": "e14604df",
   "metadata": {},
   "source": [
    "# 2nd Method"
   ]
  },
  {
   "cell_type": "code",
   "execution_count": 3,
   "id": "e52f6979",
   "metadata": {},
   "outputs": [
    {
     "name": "stdout",
     "output_type": "stream",
     "text": [
      "{'a': 2, 'e': 4, 'i': 3, 'o': 4, 'u': 1}\n"
     ]
    }
   ],
   "source": [
    "a=\"This Is A Very Big Number to show the Python Programme\"\n",
    "vowels=\"aeiou\"\n",
    "a=a.casefold()\n",
    "\n",
    "count={key:sum([1 for char in a if char==key])for key in vowels}\n",
    "print(count)"
   ]
  },
  {
   "cell_type": "code",
   "execution_count": null,
   "id": "3913ae66",
   "metadata": {},
   "outputs": [],
   "source": []
  }
 ],
 "metadata": {
  "kernelspec": {
   "display_name": "Python 3 (ipykernel)",
   "language": "python",
   "name": "python3"
  },
  "language_info": {
   "codemirror_mode": {
    "name": "ipython",
    "version": 3
   },
   "file_extension": ".py",
   "mimetype": "text/x-python",
   "name": "python",
   "nbconvert_exporter": "python",
   "pygments_lexer": "ipython3",
   "version": "3.10.9"
  }
 },
 "nbformat": 4,
 "nbformat_minor": 5
}
