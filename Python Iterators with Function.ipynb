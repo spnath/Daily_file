{
 "cells": [
  {
   "cell_type": "markdown",
   "id": "670f2eed",
   "metadata": {},
   "source": [
    "# Python Iterators with Function"
   ]
  },
  {
   "cell_type": "code",
   "execution_count": 3,
   "id": "1a5b9cf1",
   "metadata": {},
   "outputs": [
    {
     "name": "stdout",
     "output_type": "stream",
     "text": [
      "1\n",
      "2\n",
      "3\n",
      "4\n",
      "5\n",
      "6\n",
      "7\n",
      "8\n",
      "9\n",
      "10\n"
     ]
    }
   ],
   "source": [
    "a=[1,2,3,4,5,6,7,8,9,10]\n",
    "\n",
    "for i in a:\n",
    "    print(i)"
   ]
  },
  {
   "cell_type": "code",
   "execution_count": 6,
   "id": "36a8abf7",
   "metadata": {},
   "outputs": [
    {
     "name": "stdout",
     "output_type": "stream",
     "text": [
      "1\n",
      "2\n",
      "3\n",
      "4\n",
      "5\n"
     ]
    }
   ],
   "source": [
    "a=[1,2,3,4,5,6,7,8,9,10]\n",
    "\n",
    "n=iter(a)\n",
    "print(n.__next__())\n",
    "print(n.__next__())\n",
    "print(n.__next__())\n",
    "print(n.__next__())\n",
    "print(n.__next__())"
   ]
  },
  {
   "cell_type": "code",
   "execution_count": 8,
   "id": "da35273a",
   "metadata": {},
   "outputs": [
    {
     "name": "stdout",
     "output_type": "stream",
     "text": [
      "S\n",
      "u\n",
      "b\n",
      "h\n",
      "e\n",
      "n\n",
      "d\n",
      "u\n",
      " \n",
      "P\n",
      "r\n",
      "o\n",
      "s\n",
      "a\n",
      "d\n",
      " \n",
      "N\n",
      "a\n",
      "t\n",
      "h\n"
     ]
    }
   ],
   "source": [
    "s=\"Subhendu Prosad Nath\"\n",
    "\n",
    "for d in s:\n",
    "    print(d)"
   ]
  },
  {
   "cell_type": "code",
   "execution_count": null,
   "id": "d9e657d6",
   "metadata": {},
   "outputs": [],
   "source": []
  }
 ],
 "metadata": {
  "kernelspec": {
   "display_name": "Python 3 (ipykernel)",
   "language": "python",
   "name": "python3"
  },
  "language_info": {
   "codemirror_mode": {
    "name": "ipython",
    "version": 3
   },
   "file_extension": ".py",
   "mimetype": "text/x-python",
   "name": "python",
   "nbconvert_exporter": "python",
   "pygments_lexer": "ipython3",
   "version": "3.10.9"
  }
 },
 "nbformat": 4,
 "nbformat_minor": 5
}
