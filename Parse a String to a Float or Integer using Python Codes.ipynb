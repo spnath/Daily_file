{
 "cells": [
  {
   "cell_type": "markdown",
   "id": "94471016",
   "metadata": {},
   "source": [
    "# Parse a String to a Float or Integer using Python Codes? |"
   ]
  },
  {
   "cell_type": "code",
   "execution_count": 1,
   "id": "ab597376",
   "metadata": {},
   "outputs": [
    {
     "data": {
      "text/plain": [
       "'String_is_a_Palindrom or Not.ipynb'"
      ]
     },
     "execution_count": 1,
     "metadata": {},
     "output_type": "execute_result"
    }
   ],
   "source": [
    "\"String_is_a_Palindrom or Not.ipynb\""
   ]
  },
  {
   "cell_type": "code",
   "execution_count": 3,
   "id": "79f2a495",
   "metadata": {},
   "outputs": [
    {
     "name": "stdout",
     "output_type": "stream",
     "text": [
      "<class 'str'>\n",
      "123.6078\n",
      "<class 'float'>\n",
      "123.6078\n"
     ]
    }
   ],
   "source": [
    "string=\"123.6078\"\n",
    "print(type(string))\n",
    "print(string)\n",
    "float_string=float(string)\n",
    "print(type(float_string))\n",
    "print(float_string)"
   ]
  },
  {
   "cell_type": "markdown",
   "id": "5ed91d2a",
   "metadata": {},
   "source": [
    "# Solution-3"
   ]
  },
  {
   "cell_type": "code",
   "execution_count": 7,
   "id": "539c889c",
   "metadata": {},
   "outputs": [
    {
     "name": "stdout",
     "output_type": "stream",
     "text": [
      "<class 'str'>\n",
      "<class 'int'>\n"
     ]
    }
   ],
   "source": [
    "string=\"1254.748\"\n",
    "print(type(string))\n",
    "\n",
    "str_float_int=(float(string))\n",
    "str_float_int=int(float(string))\n",
    "\n",
    "print(type(str_float_int))"
   ]
  },
  {
   "cell_type": "code",
   "execution_count": 9,
   "id": "cb3616d4",
   "metadata": {},
   "outputs": [
    {
     "name": "stdout",
     "output_type": "stream",
     "text": [
      "<class 'str'>\n",
      "<class 'float'>\n"
     ]
    }
   ],
   "source": [
    "string=\"1254.748\"\n",
    "print(type(string))\n",
    "\n",
    "str_float_int=float(string)\n",
    "print(type(str_float_int))"
   ]
  },
  {
   "cell_type": "code",
   "execution_count": null,
   "id": "9501e9b6",
   "metadata": {},
   "outputs": [],
   "source": []
  }
 ],
 "metadata": {
  "kernelspec": {
   "display_name": "Python 3 (ipykernel)",
   "language": "python",
   "name": "python3"
  },
  "language_info": {
   "codemirror_mode": {
    "name": "ipython",
    "version": 3
   },
   "file_extension": ".py",
   "mimetype": "text/x-python",
   "name": "python",
   "nbconvert_exporter": "python",
   "pygments_lexer": "ipython3",
   "version": "3.10.9"
  }
 },
 "nbformat": 4,
 "nbformat_minor": 5
}
