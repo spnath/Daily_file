{
 "cells": [
  {
   "cell_type": "markdown",
   "id": "9b1a6933",
   "metadata": {},
   "source": [
    "# How to Check if a String is a Valid Keyword or Not?"
   ]
  },
  {
   "cell_type": "code",
   "execution_count": 1,
   "id": "33d25eb3",
   "metadata": {},
   "outputs": [],
   "source": [
    "import keyword"
   ]
  },
  {
   "cell_type": "code",
   "execution_count": 4,
   "id": "c7cc263b",
   "metadata": {},
   "outputs": [
    {
     "name": "stdout",
     "output_type": "stream",
     "text": [
      "break is a keyword in python\n",
      "John is not a keyword in python\n",
      "Three is not a keyword in python\n",
      "Lambda is not a keyword in python\n",
      "Ovis is not a keyword in python\n",
      "lungi is not a keyword in python\n"
     ]
    }
   ],
   "source": [
    "words=[\"break\",\"John\",\"Three\",\"Lambda\",\"Ovis\",\"lungi\"]\n",
    "\n",
    "for i in range (len(words)):\n",
    "    if keyword.iskeyword(words[i]):\n",
    "        print(words[i],'is a keyword in python')\n",
    "    else:\n",
    "        print(words[i],'is not a keyword in python')"
   ]
  },
  {
   "cell_type": "code",
   "execution_count": 5,
   "id": "70f1d0f8",
   "metadata": {},
   "outputs": [
    {
     "name": "stdout",
     "output_type": "stream",
     "text": [
      "['False', 'None', 'True', 'and', 'as', 'assert', 'async', 'await', 'break', 'class', 'continue', 'def', 'del', 'elif', 'else', 'except', 'finally', 'for', 'from', 'global', 'if', 'import', 'in', 'is', 'lambda', 'nonlocal', 'not', 'or', 'pass', 'raise', 'return', 'try', 'while', 'with', 'yield']\n"
     ]
    }
   ],
   "source": [
    "print(keyword.kwlist)"
   ]
  },
  {
   "cell_type": "code",
   "execution_count": 2,
   "id": "aa925fea",
   "metadata": {},
   "outputs": [
    {
     "name": "stdout",
     "output_type": "stream",
     "text": [
      "SciPy is a scientific computation library that uses NumPy underneath\n"
     ]
    }
   ],
   "source": [
    "a=str(\"SciPy is a scientific computation library that uses NumPy underneath\")\n",
    "print(a)"
   ]
  },
  {
   "cell_type": "code",
   "execution_count": null,
   "id": "eda63480",
   "metadata": {},
   "outputs": [],
   "source": []
  }
 ],
 "metadata": {
  "kernelspec": {
   "display_name": "Python 3 (ipykernel)",
   "language": "python",
   "name": "python3"
  },
  "language_info": {
   "codemirror_mode": {
    "name": "ipython",
    "version": 3
   },
   "file_extension": ".py",
   "mimetype": "text/x-python",
   "name": "python",
   "nbconvert_exporter": "python",
   "pygments_lexer": "ipython3",
   "version": "3.10.9"
  }
 },
 "nbformat": 4,
 "nbformat_minor": 5
}
