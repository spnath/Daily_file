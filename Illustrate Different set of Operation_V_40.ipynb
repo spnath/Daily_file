{
 "cells": [
  {
   "cell_type": "code",
   "execution_count": 1,
   "id": "becd84e7",
   "metadata": {},
   "outputs": [
    {
     "name": "stdout",
     "output_type": "stream",
     "text": [
      "The Union Is  {1, 2, 3, 4, 5, 6, 7, 8, 9}\n",
      "The Intersection is {8, 2, 3, 6}\n",
      "The Difference is {9, 5, 7}\n",
      "The Symmentric Difference is {1, 4, 5, 7, 9}\n"
     ]
    }
   ],
   "source": [
    "A={2,5,6,3,7,8,9}\n",
    "B={4,6,3,2,1,4,8}\n",
    "\n",
    "print(\"The Union Is \", A | B)\n",
    "print(\"The Intersection is\",A & B)\n",
    "print(\"The Difference is\", A-B)\n",
    "print(\"The Symmentric Difference is\", A^B)"
   ]
  },
  {
   "cell_type": "code",
   "execution_count": null,
   "id": "7ec67113",
   "metadata": {},
   "outputs": [],
   "source": []
  }
 ],
 "metadata": {
  "kernelspec": {
   "display_name": "Python 3 (ipykernel)",
   "language": "python",
   "name": "python3"
  },
  "language_info": {
   "codemirror_mode": {
    "name": "ipython",
    "version": 3
   },
   "file_extension": ".py",
   "mimetype": "text/x-python",
   "name": "python",
   "nbconvert_exporter": "python",
   "pygments_lexer": "ipython3",
   "version": "3.10.9"
  }
 },
 "nbformat": 4,
 "nbformat_minor": 5
}
