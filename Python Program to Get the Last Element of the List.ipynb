{
 "cells": [
  {
   "cell_type": "markdown",
   "id": "9dc5b480",
   "metadata": {},
   "source": [
    "# Python Program to Get the Last Element of the List"
   ]
  },
  {
   "cell_type": "code",
   "execution_count": 1,
   "id": "d22fb1e8",
   "metadata": {},
   "outputs": [
    {
     "name": "stdout",
     "output_type": "stream",
     "text": [
      "Suparna\n"
     ]
    }
   ],
   "source": [
    "last_item=[\"Subhe\",\"Koyel\",\"Kusum\",\"Kumari\",\"Anindita\",\"Suparna\"]\n",
    "\n",
    "print(last_item[-1])"
   ]
  },
  {
   "cell_type": "code",
   "execution_count": null,
   "id": "483e28a2",
   "metadata": {},
   "outputs": [],
   "source": []
  }
 ],
 "metadata": {
  "kernelspec": {
   "display_name": "Python 3 (ipykernel)",
   "language": "python",
   "name": "python3"
  },
  "language_info": {
   "codemirror_mode": {
    "name": "ipython",
    "version": 3
   },
   "file_extension": ".py",
   "mimetype": "text/x-python",
   "name": "python",
   "nbconvert_exporter": "python",
   "pygments_lexer": "ipython3",
   "version": "3.10.9"
  }
 },
 "nbformat": 4,
 "nbformat_minor": 5
}
