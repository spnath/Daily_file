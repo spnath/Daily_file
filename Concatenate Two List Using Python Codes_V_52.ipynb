{
 "cells": [
  {
   "cell_type": "markdown",
   "id": "9ba69e08",
   "metadata": {},
   "source": [
    "# Concatenate Two List Using Python Codes_V_52"
   ]
  },
  {
   "cell_type": "code",
   "execution_count": 1,
   "id": "a1a4530b",
   "metadata": {},
   "outputs": [
    {
     "name": "stdout",
     "output_type": "stream",
     "text": [
      "[3, 4, 6, 6, 'd', 'b', 's', 6, 8, 9, 11, 'e', 'f', 'm']\n"
     ]
    }
   ],
   "source": [
    "l1=[3,4,6,6,\"d\",\"b\",\"s\"]\n",
    "l2=[6,8,9,11,\"e\",\"f\",\"m\"]\n",
    "\n",
    "l3=l1+l2\n",
    "print(l3)"
   ]
  },
  {
   "cell_type": "markdown",
   "id": "b368aed2",
   "metadata": {},
   "source": [
    "# Method =2"
   ]
  },
  {
   "cell_type": "code",
   "execution_count": 2,
   "id": "b912489d",
   "metadata": {},
   "outputs": [
    {
     "name": "stdout",
     "output_type": "stream",
     "text": [
      "['e', 3, 4, 'b', 6, 8, 9, 11, 'f', 's', 'd', 'm']\n"
     ]
    }
   ],
   "source": [
    "l1=[3,4,6,6,\"d\",\"b\",\"s\"]\n",
    "l2=[6,8,9,11,\"e\",\"f\",\"m\"]\n",
    "\n",
    "l2=list(set(l1+l2))\n",
    "print(l2)\n"
   ]
  },
  {
   "cell_type": "markdown",
   "id": "cd37095c",
   "metadata": {},
   "source": [
    "# Method \"#3\""
   ]
  },
  {
   "cell_type": "code",
   "execution_count": 3,
   "id": "00b5f7df",
   "metadata": {},
   "outputs": [
    {
     "name": "stdout",
     "output_type": "stream",
     "text": [
      "[3, 4, 6, 6, 'd', 'b', 's', 6, 8, 9, 11, 'e', 'f', 'm']\n"
     ]
    }
   ],
   "source": [
    "l1=[3,4,6,6,\"d\",\"b\",\"s\"]\n",
    "l2=[6,8,9,11,\"e\",\"f\",\"m\"]\n",
    "\n",
    "l1.extend(l2)\n",
    "print(l1)"
   ]
  },
  {
   "cell_type": "code",
   "execution_count": null,
   "id": "435334b6",
   "metadata": {},
   "outputs": [],
   "source": []
  }
 ],
 "metadata": {
  "kernelspec": {
   "display_name": "Python 3 (ipykernel)",
   "language": "python",
   "name": "python3"
  },
  "language_info": {
   "codemirror_mode": {
    "name": "ipython",
    "version": 3
   },
   "file_extension": ".py",
   "mimetype": "text/x-python",
   "name": "python",
   "nbconvert_exporter": "python",
   "pygments_lexer": "ipython3",
   "version": "3.10.9"
  }
 },
 "nbformat": 4,
 "nbformat_minor": 5
}
